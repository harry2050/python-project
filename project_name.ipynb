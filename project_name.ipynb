{
  "nbformat": 4,
  "nbformat_minor": 0,
  "metadata": {
    "colab": {
      "name": "project name",
      "provenance": [],
      "collapsed_sections": []
    },
    "kernelspec": {
      "name": "python3",
      "display_name": "Python 3"
    }
  },
  "cells": [
    {
      "cell_type": "markdown",
      "metadata": {
        "id": "frTthLt9czal",
        "colab_type": "text"
      },
      "source": [
        ""
      ]
    },
    {
      "cell_type": "code",
      "metadata": {
        "id": "8u5-Ts0QG1Sr",
        "colab_type": "code",
        "colab": {}
      },
      "source": [
        ""
      ],
      "execution_count": 0,
      "outputs": []
    },
    {
      "cell_type": "markdown",
      "metadata": {
        "id": "aiaF5zo0cAkj",
        "colab_type": "text"
      },
      "source": [
        "## project name(application form-contact app)\n",
        "* add a contact detail\n",
        "*search the contact detail\n",
        "*to modify the contact detail\n",
        "*to delete contact detail"
      ]
    },
    {
      "cell_type": "code",
      "metadata": {
        "id": "KFceFYqTG2OQ",
        "colab_type": "code",
        "colab": {
          "base_uri": "https://localhost:8080/",
          "height": 34
        },
        "outputId": "979fdc25-1ad0-45d7-aa0a-b0d8bad53f04"
      },
      "source": [
        "contact={}# empty dict object is taken\n",
        "#lets create a function to add a contact details\n",
        "def addcontact(name,phone):\n",
        "  if name not in contact:\n",
        "    contact[name]=phone\n",
        "    print('contact details added successfully')\n",
        "  else:\n",
        "    print('already present')\n",
        "  return\n",
        "\n",
        "addcontact('harry','9999999999')"
      ],
      "execution_count": 24,
      "outputs": [
        {
          "output_type": "stream",
          "text": [
            "contact details added successfully\n"
          ],
          "name": "stdout"
        }
      ]
    },
    {
      "cell_type": "code",
      "metadata": {
        "id": "JuC7Ab8-NZVh",
        "colab_type": "code",
        "colab": {
          "base_uri": "https://localhost:8080/",
          "height": 34
        },
        "outputId": "dfe9a40f-37dd-4e43-9ef0-a2630f77d297"
      },
      "source": [
        "contact"
      ],
      "execution_count": 25,
      "outputs": [
        {
          "output_type": "execute_result",
          "data": {
            "text/plain": [
              "{'harry': '9999999999'}"
            ]
          },
          "metadata": {
            "tags": []
          },
          "execution_count": 25
        }
      ]
    },
    {
      "cell_type": "markdown",
      "metadata": {
        "id": "oASMIADePn1n",
        "colab_type": "text"
      },
      "source": [
        "code tried"
      ]
    },
    {
      "cell_type": "code",
      "metadata": {
        "id": "_3clrN23IDti",
        "colab_type": "code",
        "outputId": "4ec44fc6-f343-4fba-ffd5-fae914caa43a",
        "colab": {
          "base_uri": "https://localhost:8080/",
          "height": 34
        }
      },
      "source": [
        "contact={}\n",
        "\n",
        "if \"priya\" in contact:\n",
        "  print(\"already present\")\n",
        "\n",
        "else:\n",
        "  contact.update({'priya':'99975567888'})\n",
        "  print(contact)\n",
        "\n",
        "\n",
        "\n",
        " \n"
      ],
      "execution_count": 30,
      "outputs": [
        {
          "output_type": "stream",
          "text": [
            "{'priya': '99975567888'}\n"
          ],
          "name": "stdout"
        }
      ]
    },
    {
      "cell_type": "code",
      "metadata": {
        "id": "KJe3AvDDOFDV",
        "colab_type": "code",
        "colab": {
          "base_uri": "https://localhost:8080/",
          "height": 34
        },
        "outputId": "457ff22b-2df0-4b41-b8bb-ca9f9d5561d6"
      },
      "source": [
        "contact"
      ],
      "execution_count": 31,
      "outputs": [
        {
          "output_type": "execute_result",
          "data": {
            "text/plain": [
              "{'priya': '99975567888'}"
            ]
          },
          "metadata": {
            "tags": []
          },
          "execution_count": 31
        }
      ]
    },
    {
      "cell_type": "code",
      "metadata": {
        "id": "IpOZkZ2zOv7n",
        "colab_type": "code",
        "colab": {
          "base_uri": "https://localhost:8080/",
          "height": 34
        },
        "outputId": "a753aa54-6cb3-44b3-d285-c55304051ca9"
      },
      "source": [
        "def searchcontact(name):\n",
        "  if name in contact :\n",
        "     print( name, \":\", contact[name])\n",
        "  else:\n",
        "     print(name,'not present')\n",
        "  return\n",
        "searchcontact('priya')"
      ],
      "execution_count": 41,
      "outputs": [
        {
          "output_type": "stream",
          "text": [
            "priya : 99975567888\n"
          ],
          "name": "stdout"
        }
      ]
    },
    {
      "cell_type": "code",
      "metadata": {
        "id": "sQ5i2CkHRDtt",
        "colab_type": "code",
        "colab": {
          "base_uri": "https://localhost:8080/",
          "height": 34
        },
        "outputId": "5ab3a13f-e85c-48f7-cfa5-9ef26dd75589"
      },
      "source": [
        "contact"
      ],
      "execution_count": 42,
      "outputs": [
        {
          "output_type": "execute_result",
          "data": {
            "text/plain": [
              "{'priya': '99975567888'}"
            ]
          },
          "metadata": {
            "tags": []
          },
          "execution_count": 42
        }
      ]
    },
    {
      "cell_type": "code",
      "metadata": {
        "id": "vdnJJJRhSLJP",
        "colab_type": "code",
        "colab": {
          "base_uri": "https://localhost:8080/",
          "height": 34
        },
        "outputId": "5d125344-b6b7-4b91-f0d9-f6c67542eef5"
      },
      "source": [
        "def modifycontact(name,phone):\n",
        "  \n",
        "  if name in contact:\n",
        "    contact[name]=phone\n",
        "    print(name,'updated success')\n",
        "    \n",
        "  else:\n",
        "      print(name,'not present')\n",
        "  return\n",
        "modifycontact('priya',987654321)\n"
      ],
      "execution_count": 44,
      "outputs": [
        {
          "output_type": "stream",
          "text": [
            "priya updated success\n"
          ],
          "name": "stdout"
        }
      ]
    },
    {
      "cell_type": "code",
      "metadata": {
        "id": "KPazr2p5VRie",
        "colab_type": "code",
        "colab": {
          "base_uri": "https://localhost:8080/",
          "height": 34
        },
        "outputId": "c830891a-3bdc-48a6-9d98-987ba4ecd998"
      },
      "source": [
        "def deletecontact(name,phone):\n",
        "  if name in contact:\n",
        "    contact.pop(name)\n",
        "    print(name,'deleted successfully')\n",
        "  else:\n",
        "      print(name,'not present')\n",
        "  return\n",
        "deletecontact('priya',987654321)"
      ],
      "execution_count": 47,
      "outputs": [
        {
          "output_type": "stream",
          "text": [
            "priya deleted successfully\n"
          ],
          "name": "stdout"
        }
      ]
    },
    {
      "cell_type": "markdown",
      "metadata": {
        "id": "H4Nm-R2PY191",
        "colab_type": "text"
      },
      "source": [
        "to delete we can use \n",
        "del contact[name] instead of contact.pop(name)"
      ]
    },
    {
      "cell_type": "code",
      "metadata": {
        "id": "OKpa33BeXxTK",
        "colab_type": "code",
        "colab": {}
      },
      "source": [
        ""
      ],
      "execution_count": 0,
      "outputs": []
    }
  ]
}